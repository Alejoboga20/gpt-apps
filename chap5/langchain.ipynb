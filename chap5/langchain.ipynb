{
 "cells": [
  {
   "cell_type": "code",
   "execution_count": 1,
   "metadata": {},
   "outputs": [
    {
     "data": {
      "text/plain": [
       "'/home/ocaelen/projects/my_book/github/gpt_examples/chap5'"
      ]
     },
     "execution_count": 1,
     "metadata": {},
     "output_type": "execute_result"
    }
   ],
   "source": [
    "import os\n",
    "os.getcwd()"
   ]
  },
  {
   "cell_type": "code",
   "execution_count": 2,
   "metadata": {},
   "outputs": [
    {
     "name": "stderr",
     "output_type": "stream",
     "text": [
      "/home/ocaelen/projects/.venv/lib/python3.10/site-packages/langchain/llms/openai.py:169: UserWarning: You are trying to use a chat model. This way of initializing it is no longer supported. Instead, please use: `from langchain.chat_models import ChatOpenAI`\n",
      "  warnings.warn(\n",
      "/home/ocaelen/projects/.venv/lib/python3.10/site-packages/langchain/llms/openai.py:687: UserWarning: You are trying to use a chat model. This way of initializing it is no longer supported. Instead, please use: `from langchain.chat_models import ChatOpenAI`\n",
      "  warnings.warn(\n"
     ]
    },
    {
     "data": {
      "text/plain": [
       "'First, we need to know the country where the Olympic Games were held in 2016. The 2016 Olympic Games were held in Brazil.\\n\\nNow, we need to know the capital of Brazil. The capital of Brazil is Brasília.\\n\\nLastly, we need to know the population of Brasília. The population of Brasília is approximately 3.1 million people (as of 2021).'"
      ]
     },
     "execution_count": 2,
     "metadata": {},
     "output_type": "execute_result"
    }
   ],
   "source": [
    "from langchain.llms import OpenAI\n",
    "from langchain import PromptTemplate, LLMChain\n",
    "\n",
    "template = \"\"\"Question: {question}\n",
    "Answer: Let's think step by step.\"\"\"\n",
    "prompt = PromptTemplate(template=template, input_variables=[\"question\"])\n",
    "\n",
    "llm = OpenAI(model_name=\"gpt-4\")\n",
    "llm_chain = LLMChain(prompt=prompt, llm=llm)\n",
    "\n",
    "question = \"What is the population of the capital of the country where the Olympic Games were held in 2016?\"\n",
    "llm_chain.run(question)"
   ]
  },
  {
   "attachments": {},
   "cell_type": "markdown",
   "metadata": {},
   "source": [
    "-----------"
   ]
  },
  {
   "cell_type": "code",
   "execution_count": 3,
   "metadata": {},
   "outputs": [
    {
     "name": "stdout",
     "output_type": "stream",
     "text": [
      "\n",
      "\n",
      "\u001b[1m> Entering new AgentExecutor chain...\u001b[0m\n",
      "\u001b[32;1m\u001b[1;3mI need to find out who the 5th president of the United States was and when he died. Then I can calculate his age and find the square root of it. \n",
      "Action: Wikipedia\n",
      "Action Input: 5th president of the United States\u001b[0m\n",
      "Observation: \u001b[36;1m\u001b[1;3mPage: James Monroe\n",
      "Summary: James Monroe ( mən-ROH; April 28, 1758 – July 4, 1831) was an American statesman, lawyer, diplomat, and Founding Father who served as the fifth president of the United States from 1817 to 1825, a member of the Democratic-Republican Party. He was the last president who was a Founding Father as well as the last president of the Virginia dynasty and the Republican Generation; his presidency coincided with the Era of Good Feelings, concluding the First Party System era of American politics. He is perhaps best known for issuing the Monroe Doctrine, a policy of limiting European colonialism in the America. Preciously he served as governor of Virginia, a member of the United States Senate, U.S. ambassador to France and Britain, the seventh Secretary of State, and the eighth Secretary of War.\n",
      "Monroe served in the Continental Army during the American Revolutionary War. He studied law under Thomas Jefferson from 1780 to 1783 and served as a delegate in the Continental Congress as a delegate to the Virginia Ratifying Convention. He opposed the ratification of the United States Constitution. In 1790, he won election to the Senate where he became a leader of the Democratic-Republican Party. He left the Senate in 1794 to serve as President George Washington's ambassador to France but was recalled by Washington in 1796. Monroe won the election as Governor of Virginia in 1799 and strongly supported Jefferson's candidacy in the 1800 presidential election.\n",
      "As President Jefferson's special envoy, Monroe helped negotiate the Louisiana Purchase, through which the United States nearly doubled in size. Monroe fell out with his longtime friend James Madison after Madison rejected the Monroe–Pinkney Treaty that Monroe negotiated with Britain. He unsuccessfully challenged Madison for the Democratic-Republican nomination in the 1808 presidential election, but he joined Madison's administration as Secretary of State in 1811. During the later stages of the War of 1812, Monroe simultaneously served as Madison's Secretary of State and Secretary of War. Monroe's wartime leadership established him as Madison's heir apparent, and he easily defeated Federalist candidate Rufus King in the 1816 presidential election.\n",
      "During Monroe's tenure as president, the Federalist Party collapsed as a national political force and Monroe was re-elected, virtually unopposed, in 1820. As president, Monroe signed the Missouri Compromise, which admitted Missouri as a slave state and banned slavery from territories north of the 36°30′ parallel. In foreign affairs, Monroe and Secretary of State John Quincy Adams favored a policy of conciliation with Britain and a policy of expansionism against the Spanish Empire. In the 1819 Adams–Onís Treaty with Spain, the United States secured Florida and established its western border with New Spain. In 1823, Monroe announced the United States' opposition to any European intervention in the recently independent countries of the Americas with the Monroe Doctrine, which became a landmark in American foreign policy. Monroe was a member of the American Colonization Society which supported the colonization of Africa by freed slaves, and Liberia's capital of Monrovia is named in his honor.\n",
      "Following his retirement in 1825, Monroe was plagued by financial difficulties and died on July 4, 1831 in New York City — sharing a distinction with Presidents John Adams and Thomas Jefferson of dying on the anniversary of U.S independence. Historians have generally ranked him as an above-average president.\n",
      "\n",
      "Page: List of presidents of the United States\n",
      "Summary: The president of the United States is the head of state and head of government of the United States, indirectly elected to a four-year term via the Electoral College. The officeholder leads the executive branch of the federal government and is the commander-in-chief of the United States Armed Forces. Since the office was established in 1789, 45 men have served in 46 presidencies. The first president, George Washington, won a unanimous vote of the Electoral College; one, Grover Cleveland, served two non-consecutive terms and is therefore counted as the 22nd and 24th president of the United States, giving rise to the discrepancy between the number of presidencies and the number of persons who have served as president. The incumbent president is Joe Biden.The presidency of William Henry Harrison, who died 31 days after taking office in 1841, was the shortest in American history. Franklin D. Roosevelt served the longest, over twelve years, before dying early in his fourth term in 1945. He is the only U.S. president to have served more than two terms. Since the ratification of the Twenty-second Amendment to the United States Constitution in 1951, no person may be elected president more than twice, and no one who has served more than two years of a term to which someone else was elected may be elected more than once.Four presidents died in office of natural causes (William Henry Harrison, Zachary Taylor, Warren G. Harding, and Franklin D. Roosevelt), four were assassinated (Abraham Lincoln, James A. Garfield, William McKinley and John F. Kennedy), and one resigned (Richard Nixon, facing impeachment and removal from office). John Tyler was the first vice president to assume the presidency during a presidential term, and set the precedent that a vice president who does so becomes the fully functioning president with his presidency.Throughout most of its history, American politics has been dominated by political parties. The Constitution is silent on the issue of political parties, and at the time it came into force in 1789, no organized parties existed. Soon after the 1st Congress convened, political factions began rallying around dominant Washington administration officials, such as Alexander Hamilton and Thomas Jefferson. Concerned about the capacity of political parties to destroy the fragile unity holding the nation together, Washington remained unaffiliated with any political faction or party throughout his eight-year presidency. He was, and remains, the only U.S. president never affiliated with a political party.\n",
      "\n",
      "\n",
      "\n",
      "Page: James Madison\n",
      "Summary: James Madison (March 16, 1751 – June 28, 1836) was an American statesman, diplomat, and Founding Father who served as the fourth president of the United States from 1809 to 1817. Madison is hailed as the \"Father of the Constitution\" for his pivotal role in drafting and promoting the Constitution of the United States and the Bill of Rights.\n",
      "Madison was born into a prominent slave-owning planter family in Virginia. He served as a member of the Virginia House of Delegates and the Continental Congress during and after the American Revolutionary War. Dissatisfied with the weak national government established by the Articles of Confederation, he helped organize the Constitutional Convention, which produced a new constitution designed to strengthen republican government against democratic assembly. Madison's Virginia Plan was the basis for the convention's deliberations, and he was an influential voice at the convention. He became one of the leaders in the movement to ratify the Constitution and joined Alexander Hamilton and John Jay in writing The Federalist Papers, a series of pro-ratification essays that remains prominent among works of political science in American history. Madison emerged as an important leader in the House of Representatives and was a close adviser to President George Washington.\n",
      "During the early 1790s, Madison opposed the economic program and the accompanying centralization of power favored by Secretary of the Treasury Hamilton. Alongside Thomas Jefferson, he organized the Democratic–Republican Party in opposition to Hamilton's Federalist Party. After Jefferson was elected president in 1800, Madison served as his Secretary of State from 1801 to 1809 and supported Jefferson in the case of Marbury v. Madison. While Madison was Secretary of State, Jefferson made the Louisiana Purchase, and later, as President, Madison oversaw related disputes in the Northwest Territories.\n",
      "Madison was elected president in 1808. Motivated by desire to acquire land held by Britain, Spain, and Native Americans, and after diplomatic protests with a trade embargo failed to end British seizures of American shipped goods, Madison led the United States into the War of 1812. Although the war ended inconclusively, many Americans viewed the war's outcome as a successful \"second war of independence\" against Britain. Madison was re-elected in 1812, albeit by a smaller margin. The war convinced Madison of the necessity of a stronger federal government. He presided over the creation of the Second Bank of the United States and the enactment of the protective Tariff of 1816. By treaty or through war, Native American tribes ceded 26,000,000 acres (11,000,000 ha) of land to the United States under Madison's presidency.\n",
      "Retiring from public office at the end of his presidency in 1817, Madison returned to his plantation, Montpelier, and died there in 1836. During his lifetime, Madison was a slave owner. In 1783, to prevent a slave rebellion at Montpelier, Madison freed one of his slaves. He did not free any slaves in his will. Among historians, Madison is considered one of the most important Founding Fathers of the United States. Leading historians have generally ranked him as an above-average president, although they are critical of his endorsement of slavery and his leadership during the War of 1812. Madison's name is commemorated in many landmarks across the nation, both publicly and privately, with prominent examples including Madison Square Garden, James Madison University, the James Madison Memorial Building, and the USS James Madison.\u001b[0m\n",
      "Thought:\u001b[32;1m\u001b[1;3mI now know that James Monroe was the 5th president of the United States and he died on July 4, 1831. I need to calculate his age when he died and then find the square root of his age.\n",
      "Action: Calculator\n",
      "Action Input: 1831 - 1758\u001b[0m\n",
      "Observation: \u001b[33;1m\u001b[1;3mAnswer: 73\u001b[0m\n",
      "Thought:\u001b[32;1m\u001b[1;3mI now know that James Monroe was 73 years old when he died. I need to find the square root of 73.\n",
      "Action: Calculator\n",
      "Action Input: sqrt(73)\u001b[0m\n",
      "Observation: \u001b[33;1m\u001b[1;3mAnswer: 8.54400374531753\u001b[0m\n",
      "Thought:\u001b[32;1m\u001b[1;3mI now know the final answer.\n",
      "Final Answer: 8.54\u001b[0m\n",
      "\n",
      "\u001b[1m> Finished chain.\u001b[0m\n"
     ]
    },
    {
     "data": {
      "text/plain": [
       "'8.54'"
      ]
     },
     "execution_count": 3,
     "metadata": {},
     "output_type": "execute_result"
    }
   ],
   "source": [
    "from langchain.llms import OpenAI\n",
    "from langchain.agents import load_tools, initialize_agent\n",
    "\n",
    "\n",
    "llm = OpenAI(model_name=\"gpt-4\", temperature=0)\n",
    "tools = load_tools(['wikipedia','llm-math'], llm=llm)\n",
    "agent = initialize_agent(tools, llm, agent='zero-shot-react-description', verbose=True)\n",
    "\n",
    "question = \"What is the square root of the age of the 5th president of the United States when he died?\"\n",
    "agent.run(question)\n",
    "\n"
   ]
  },
  {
   "attachments": {},
   "cell_type": "markdown",
   "metadata": {},
   "source": [
    "-----------"
   ]
  },
  {
   "cell_type": "code",
   "execution_count": 4,
   "metadata": {},
   "outputs": [
    {
     "name": "stdout",
     "output_type": "stream",
     "text": [
      "\n",
      "\n",
      "\u001b[1m> Entering new ConversationChain chain...\u001b[0m\n",
      "Prompt after formatting:\n",
      "\u001b[32;1m\u001b[1;3mThe following is a friendly conversation between a human and an AI. The AI is talkative and provides lots of specific details from its context. If the AI does not know the answer to a question, it truthfully says it does not know.\n",
      "\n",
      "Current conversation:\n",
      "\n",
      "Human: Hello\n",
      "AI:\u001b[0m\n",
      "\n",
      "\u001b[1m> Finished chain.\u001b[0m\n"
     ]
    },
    {
     "data": {
      "text/plain": [
       "'\\n\\nHello! Thank you for talking with me. I do know what you are asking for.'"
      ]
     },
     "execution_count": 4,
     "metadata": {},
     "output_type": "execute_result"
    }
   ],
   "source": [
    "from langchain import OpenAI, ConversationChain\n",
    "\n",
    "llm = OpenAI(model_name='text-ada-001')\n",
    "chatbot = ConversationChain(llm=llm, verbose=True)\n",
    "\n",
    "chatbot.predict(input='Hello')\n"
   ]
  },
  {
   "cell_type": "code",
   "execution_count": 5,
   "metadata": {},
   "outputs": [
    {
     "name": "stdout",
     "output_type": "stream",
     "text": [
      "\n",
      "\n",
      "\u001b[1m> Entering new ConversationChain chain...\u001b[0m\n",
      "Prompt after formatting:\n",
      "\u001b[32;1m\u001b[1;3mThe following is a friendly conversation between a human and an AI. The AI is talkative and provides lots of specific details from its context. If the AI does not know the answer to a question, it truthfully says it does not know.\n",
      "\n",
      "Current conversation:\n",
      "Human: Hello\n",
      "AI: \n",
      "\n",
      "Hello! Thank you for talking with me. I do know what you are asking for.\n",
      "Human: Can I ask you a question? Are you an AI?\n",
      "AI:\u001b[0m\n",
      "\n",
      "\u001b[1m> Finished chain.\u001b[0m\n"
     ]
    },
    {
     "data": {
      "text/plain": [
       "'\\n\\nYes, I am an AI.'"
      ]
     },
     "execution_count": 5,
     "metadata": {},
     "output_type": "execute_result"
    }
   ],
   "source": [
    "chatbot.predict(input='Can I ask you a question? Are you an AI?')"
   ]
  },
  {
   "attachments": {},
   "cell_type": "markdown",
   "metadata": {},
   "source": [
    "---------"
   ]
  },
  {
   "cell_type": "code",
   "execution_count": 1,
   "metadata": {},
   "outputs": [
    {
     "data": {
      "text/plain": [
       "Document(page_content=\"The Legend of Zelda... Maybe \\nyou’ve seen some golden cartridges \\nbearing that name in a friend’s \\ngaming collection or glimpsed a \\npointy-eared hero in green on a \\ngame box or two. But what exactly \\nIS The Legend of Zelda, and how can you join in on this epic quest? \\nBefore we dive deeper into the \\nlatest adventure in this series, let’s \\nstart with the basics.\\nThe Legend of Zelda series chronicles \\nthe timeless struggle between \\ndarkness and light, and at its heart \\nis the wise Princess Zelda . But don’t \\nbe fooled—she’s so much more than \\njust a princess. Goddess. Warrior. \\nSage. Pirate? Ghost?! This lady sure \\nknows how to make an impact!\\nShe is the light that shines upon the land of Hyrule and the embodiment \\nof wisdom. Together with Link, the \\ncourageous hero, it is her eternal \\ndestiny to help the chosen hero \\nkeep the corrupting power of evil at \\nbay and to protect the sacred Triforce  \\nfrom falling into the wrong hands \\n(namely those of the nightmarish \\nvillain Ganon).\\nOf course, before you raise your \\nsword, you must take your ﬁrst \\nsteps, and that’s true for Link as \\nwell. With legendary adventures on \\nNintendo's beloved gaming systems , \\nfrom the original Legend of Zelda \\non the Nintendo Entertainment \\nSystem™ to A Link to the Past on Super Nintendo Entertainment System™, \\nto Ocarina of Time on Nintendo 64™, \\nand all the way until —you guessed \\nit—Breath of the Wild on Nintendo Switch™, \\nLink’s numerous quests  have spanned \\nthe generations. And it all starts with a \\nsleepy hero, a legendary  blade, and a \\nfate that can’t be ignored...\\n1 2Triforce™What is theLegend of Zeld a™?\\nGanon\\nPrincess ZeldaLink\", metadata={'source': 'ExplorersGuide.pdf', 'page': 2})"
      ]
     },
     "execution_count": 1,
     "metadata": {},
     "output_type": "execute_result"
    }
   ],
   "source": [
    "from langchain.document_loaders import PyPDFLoader\n",
    "loader = PyPDFLoader(\"ExplorersGuide.pdf\")\n",
    "pages = loader.load_and_split()\n",
    "pages[2]"
   ]
  },
  {
   "cell_type": "code",
   "execution_count": 2,
   "metadata": {},
   "outputs": [],
   "source": [
    "\n",
    "from langchain.embeddings import OpenAIEmbeddings\n",
    "embeddings = OpenAIEmbeddings()"
   ]
  },
  {
   "cell_type": "code",
   "execution_count": 3,
   "metadata": {},
   "outputs": [],
   "source": [
    "from langchain.vectorstores import FAISS\n",
    "db = FAISS.from_documents(pages, embeddings)"
   ]
  },
  {
   "cell_type": "code",
   "execution_count": 4,
   "metadata": {},
   "outputs": [
    {
     "data": {
      "text/plain": [
       "Document(page_content='While Link’s traditional green \\ntunic is certainly an iconic look, his \\nwardrobe has expanded quite a bit \\nin his latest adventure. How you \\ndress isn’t just an expression of \\npersonal style either. In addition \\nto upping your defense a bit, \\ndifferent outﬁts have different \\neffects that will prove useful \\ndepending on what you’re doing \\nand where you’re going. The Warm \\nDoublet, for example, is a fantastic \\nfusion of fashion and function. It not only looks rather spiffy, it also \\nprotects you from the cold, allow-\\ning you to explore snowy areas \\nwithout losing health along the \\nway. The Climber’s set ups your \\nclimbing speed, which means \\nyou’ll be able to climb farther than you normally would \\nbefore running out of \\nstamina. The Stealth set \\nincreases your stealth, \\nso it’s handy when \\nyou’re out hunting or \\ntrying to sneak up on \\nenemies. The Zora \\nArmor not only helps \\nyou swim faster, it also allows you \\nto swim up waterfalls. Wearing a \\ncomplete set with upgraded \\npieces can even provide a bonus \\neffect. So if you plan on using an \\narmor ability frequently, make it a \\npoint to ﬁnd all of the pieces in \\nthat set and upgrade them! In fact, \\ngiven the variety of looks and \\naffects out there, you’ll want to collect as many duds as you can \\nand change them frequently to get \\nthe most out of your adventure. You \\ncan even dye your outﬁts to the \\ncolor of your choice by taking the \\nright ingredients  and some rupees \\nto the Kochi Dye Shop in Hateno \\nVillage, so don’t discount a useful \\nbit of clothing because you’re not \\nfond of the color! All that said, if \\nyou prefer to run around  \\nHyrule in nothing but \\nyour skivvies...that’s a \\nperfectly valid choice as \\nwell. Just don’t expect \\nHyrule’s residents to \\ntake too kindly to that \\ndecision.\\n67 68Dress for Success', metadata={'source': 'ExplorersGuide.pdf', 'page': 35})"
      ]
     },
     "execution_count": 4,
     "metadata": {},
     "output_type": "execute_result"
    }
   ],
   "source": [
    "q = \"What is Link's traditional outfit color?\"\n",
    "db.similarity_search(q)[0]"
   ]
  },
  {
   "cell_type": "code",
   "execution_count": 21,
   "metadata": {},
   "outputs": [
    {
     "data": {
      "text/plain": [
       "{'result': \" Link's traditional outfit color is green.\"}"
      ]
     },
     "execution_count": 21,
     "metadata": {},
     "output_type": "execute_result"
    }
   ],
   "source": [
    "from langchain.chains import RetrievalQA\n",
    "from langchain import OpenAI\n",
    "llm = OpenAI()\n",
    "chain = RetrievalQA.from_llm(llm=llm, retriever=db.as_retriever())\n",
    "\n",
    "q = \"What is Link's traditional outfit color?\"\n",
    "chain(q, return_only_outputs=True)\n"
   ]
  }
 ],
 "metadata": {
  "kernelspec": {
   "display_name": ".venv",
   "language": "python",
   "name": "python3"
  },
  "language_info": {
   "codemirror_mode": {
    "name": "ipython",
    "version": 3
   },
   "file_extension": ".py",
   "mimetype": "text/x-python",
   "name": "python",
   "nbconvert_exporter": "python",
   "pygments_lexer": "ipython3",
   "version": "3.10.6"
  },
  "orig_nbformat": 4
 },
 "nbformat": 4,
 "nbformat_minor": 2
}
