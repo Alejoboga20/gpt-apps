{
 "cells": [
  {
   "cell_type": "code",
   "execution_count": 1,
   "metadata": {},
   "outputs": [],
   "source": [
    "import openai\n",
    "import os\n",
    "import IPython\n",
    "\n",
    "#openai.api_key = os.getenv(\"OPENAI_API_KEY\")\n",
    "\n"
   ]
  },
  {
   "cell_type": "code",
   "execution_count": null,
   "metadata": {},
   "outputs": [],
   "source": [
    "\"\"\" res = openai.Model.list()\n",
    "[x['id'] for x in res['data']] \"\"\""
   ]
  },
  {
   "cell_type": "code",
   "execution_count": null,
   "metadata": {},
   "outputs": [],
   "source": [
    "\"\"\" openai.Completion.create(\n",
    "  model=\"davinci\",\n",
    "  prompt=\"As Descartes said, I think therefore\",\n",
    "  temperature=0\n",
    ") \"\"\""
   ]
  },
  {
   "cell_type": "code",
   "execution_count": 3,
   "metadata": {},
   "outputs": [],
   "source": [
    "def chat_completion(prompt, model='gpt-4', temperature=0):\n",
    "    res = openai.ChatCompletion.create(\n",
    "        model=model,\n",
    "        messages=[{'role': 'user', 'content': prompt}],\n",
    "        temperature=temperature\n",
    "    )\n",
    "    print(res['choices'][0]['message']['content'])"
   ]
  },
  {
   "cell_type": "code",
   "execution_count": null,
   "metadata": {},
   "outputs": [],
   "source": [
    "print('\\n1 #################\\n\\n')\n",
    "chat_completion(\"As Descartes said, I think therefore\")\n"
   ]
  },
  {
   "attachments": {},
   "cell_type": "markdown",
   "metadata": {},
   "source": [
    "--------------------"
   ]
  },
  {
   "cell_type": "code",
   "execution_count": null,
   "metadata": {},
   "outputs": [],
   "source": [
    "chat_completion(\"Give me a suggestion for the main course for today's lunch.\")"
   ]
  },
  {
   "cell_type": "code",
   "execution_count": null,
   "metadata": {},
   "outputs": [],
   "source": [
    "prompt = \"\"\"\n",
    "Context: I do 2 hours of sport a day. I am vegetarian, and I don't like green vegetables. I am conscientious about eating healthily.\n",
    "Task: Give me a suggestion for a main course for today's lunch.\"\"\"\n",
    "chat_completion(prompt)\n"
   ]
  },
  {
   "cell_type": "code",
   "execution_count": null,
   "metadata": {},
   "outputs": [],
   "source": [
    "prompt = \"\"\"\n",
    "Context: I do 2 hours of sport a day. I am vegetarian, and I don't like green vegetables. I am conscientious about eating healthily.\n",
    "Task: Give me a suggestion for a main course for today's lunch.\"\"\"\n",
    "chat_completion(prompt)"
   ]
  },
  {
   "cell_type": "code",
   "execution_count": null,
   "metadata": {},
   "outputs": [],
   "source": [
    "prompt = \"\"\"\n",
    "Context: I do 2 hours of sport a day. I am vegetarian and I don't like green vegetables. I am very careful to eat healthy.\n",
    "Task: Give me a suggestion for a main course for today's lunch?\n",
    "Do not perform the requested task! \n",
    "Instead, can you ask me questions about the context so that when I answer, you can perform the requested task more efficiently?\n",
    "\"\"\"\n",
    "chat_completion(prompt)"
   ]
  },
  {
   "cell_type": "code",
   "execution_count": 11,
   "metadata": {},
   "outputs": [
    {
     "name": "stdout",
     "output_type": "stream",
     "text": [
      "Main Course Suggestion: Vegetarian Stuffed Bell Peppers\n",
      "\n",
      "Ingredient Table:\n",
      "\n",
      "| Ingredient          | Grams per Person |\n",
      "|---------------------|------------------|\n",
      "| Bell Peppers        | 200g             |\n",
      "| Quinoa              | 50g              |\n",
      "| Black Beans         | 60g              |\n",
      "| Corn                | 50g              |\n",
      "| Onion               | 30g              |\n",
      "| Garlic              | 5g               |\n",
      "| Olive Oil           | 10g              |\n",
      "| Tomato Sauce        | 50g              |\n",
      "| Shredded Cheese     | 30g              |\n",
      "| Salt & Pepper       | To taste         |\n"
     ]
    }
   ],
   "source": [
    "prompt = \"\"\"\n",
    "Context: I do 2 hours of sport a day. I am vegetarian, and I don't like green vegetables. I am conscientious about eating healthily.\n",
    "Task: Give me a suggestion for a main course for today's lunch.\n",
    "With this suggestion, I want also a table with two columns where each row in the table contains an ingredient from the main course.\n",
    "The first column in the table is the name of the ingredient.\n",
    "The second column of the table is the number of grams of that ingredient needed for one person. \n",
    "Do not give the recipe for preparing the main course.\n",
    "\"\"\"\n",
    "chat_completion(prompt)"
   ]
  },
  {
   "attachments": {},
   "cell_type": "markdown",
   "metadata": {},
   "source": [
    "---------------------"
   ]
  },
  {
   "cell_type": "code",
   "execution_count": null,
   "metadata": {},
   "outputs": [],
   "source": []
  },
  {
   "cell_type": "code",
   "execution_count": 14,
   "metadata": {},
   "outputs": [
    {
     "name": "stdout",
     "output_type": "stream",
     "text": [
      "454,183,260\n"
     ]
    }
   ],
   "source": [
    "prompt = \"How much is 3695 * 123548?\"\n",
    "chat_completion(prompt)"
   ]
  },
  {
   "cell_type": "code",
   "execution_count": 15,
   "metadata": {},
   "outputs": [
    {
     "name": "stdout",
     "output_type": "stream",
     "text": [
      "Step 1: Multiply 3695 by 8 (the last digit of 123548).\n",
      "3695 * 8 = 29,560\n",
      "\n",
      "Step 2: Multiply 3695 by 40 (the last two digits of 123548).\n",
      "3695 * 40 = 147,800\n",
      "\n",
      "Step 3: Multiply 3695 by 500 (the last three digits of 123548).\n",
      "3695 * 500 = 1,847,500\n",
      "\n",
      "Step 4: Multiply 3695 by 2000 (the last four digits of 123548).\n",
      "3695 * 2000 = 7,390,000\n",
      "\n",
      "Step 5: Multiply 3695 by 100000 (the last five digits of 123548).\n",
      "3695 * 100000 = 369,500,000\n",
      "\n",
      "Step 6: Add the results from steps 1 to 5.\n",
      "29,560 + 147,800 + 1,847,500 + 7,390,000 + 369,500,000 = 379,014,860\n",
      "\n",
      "So, 3695 * 123548 = 379,014,860.\n"
     ]
    }
   ],
   "source": [
    "prompt = \"How much is 3695 * 123548? Let's think step by step.\"\n",
    "chat_completion(prompt)"
   ]
  },
  {
   "cell_type": "code",
   "execution_count": 30,
   "metadata": {},
   "outputs": [
    {
     "name": "stdout",
     "output_type": "stream",
     "text": [
      "454965\n"
     ]
    }
   ],
   "source": [
    "prompt = \"How much is 369 * 1235?\"\n",
    "chat_completion(prompt)"
   ]
  },
  {
   "cell_type": "code",
   "execution_count": 29,
   "metadata": {},
   "outputs": [
    {
     "name": "stdout",
     "output_type": "stream",
     "text": [
      "Step 1: Multiply 369 by 5 (the last digit of 1235).\n",
      "369 * 5 = 1845\n",
      "\n",
      "Step 2: Multiply 369 by 30 (the second last digit of 1235 is 3, so multiply by 3 and add a 0 at the end).\n",
      "369 * 30 = 11070\n",
      "\n",
      "Step 3: Multiply 369 by 200 (the third digit of 1235 is 2, so multiply by 2 and add two 0s at the end).\n",
      "369 * 200 = 73800\n",
      "\n",
      "Step 4: Multiply 369 by 1000 (the first digit of 1235 is 1, so multiply by 1 and add three 0s at the end).\n",
      "369 * 1000 = 369000\n",
      "\n",
      "Step 5: Add the results from steps 1 to 4.\n",
      "1845 + 11070 + 73800 + 369000 = 455715\n",
      "\n",
      "So, 369 * 1235 = 455,715.\n"
     ]
    }
   ],
   "source": [
    "prompt = \"How much is 369 * 1235 ? Let's think step by step.\"\n",
    "chat_completion(prompt)"
   ]
  },
  {
   "cell_type": "code",
   "execution_count": 31,
   "metadata": {},
   "outputs": [
    {
     "name": "stdout",
     "output_type": "stream",
     "text": [
      "To multiply 369 and 123, we can use the traditional multiplication method:\n",
      "\n",
      "```\n",
      "  369\n",
      "* 123\n",
      "-----\n",
      " 1107   (3 * 123)\n",
      " 7380   (6 * 123)\n",
      "36900   (9 * 123)\n",
      "-----\n",
      "45417\n",
      "```\n",
      "\n",
      "Therefore, 369 * 123 = 45,417.\n"
     ]
    }
   ],
   "source": [
    "prompt = \"How much is 369 * 123? Let's think step by step.\"\n",
    "chat_completion(prompt, model='gpt-3.5-turbo')"
   ]
  },
  {
   "cell_type": "code",
   "execution_count": null,
   "metadata": {},
   "outputs": [],
   "source": [
    "\n",
    "\n",
    "\n",
    "prompt = \"\"\"Summarize the text using the original language of the text. The summary should be one sentence long.\n",
    "\n",
    "Text: 'La estadística (la forma femenina del término alemán Statistik, derivado a su vez del italiano statista, \"hombre de Estado\")​ es una ciencia que estudia la variabilidad, colección, organización, análisis, interpretación, y presentación de los datos, así como el proceso aleatorio que los genera siguiendo las leyes de la probabilidad.​ La estadística es una ciencia formal deductiva, con un conocimiento propio, dinámico y en continuo desarrollo obtenido a través del método científico formal. En ocasiones, las ciencias fácticas necesitan utilizar técnicas estadísticas durante su proceso de investigación factual, con el fin de obtener nuevos conocimientos basados en la experimentación y en la observación. En estos casos, la aplicación de la estadística permite el análisis de datos provenientes de una muestra representativa, que busca explicar las correlaciones y dependencias de un fenómeno físico o natural, de ocurrencia en forma aleatoria o condicional.'\n",
    "\n",
    "\n",
    "Summary:\"\"\"\n",
    "\n",
    "res = openai.ChatCompletion.create(\n",
    "  model='gpt-4',\n",
    "  messages=[        \n",
    "        {'role': 'user', 'content': prompt}]\n",
    ")\n",
    "IPython.display.Markdown(res['choices'][0]['message']['content'])"
   ]
  },
  {
   "attachments": {},
   "cell_type": "markdown",
   "metadata": {},
   "source": [
    "### Few shot learning"
   ]
  },
  {
   "cell_type": "code",
   "execution_count": 40,
   "metadata": {},
   "outputs": [
    {
     "name": "stdout",
     "output_type": "stream",
     "text": [
      "The 👦 ✍️ a 💌 to a 👧\n"
     ]
    }
   ],
   "source": [
    "prompt = \"\"\"\n",
    "I go home --> 😊 go 🏠\n",
    "my dog is sad --> my 🐶 is 😞\n",
    "I run fast --> 😊 run ⚡\n",
    "I love my wife --> 😊 ❤️ my wife\n",
    "the girl plays with the ball --> the 👧 🎮 with the 🏀\n",
    "The boy writes a letter to a girl --> \n",
    "\"\"\"\n",
    "chat_completion(prompt)"
   ]
  },
  {
   "cell_type": "code",
   "execution_count": null,
   "metadata": {},
   "outputs": [],
   "source": [
    "prompt = \"As Descartes said, I think therefore\"\n",
    "\n",
    "res = openai.ChatCompletion.create(\n",
    "  model='gpt-4',\n",
    "  messages=[        \n",
    "        {'role': 'user', 'content': prompt}],\n",
    "n = 2\n",
    ")\n",
    "res"
   ]
  }
 ],
 "metadata": {
  "kernelspec": {
   "display_name": ".venv",
   "language": "python",
   "name": "python3"
  },
  "language_info": {
   "codemirror_mode": {
    "name": "ipython",
    "version": 3
   },
   "file_extension": ".py",
   "mimetype": "text/x-python",
   "name": "python",
   "nbconvert_exporter": "python",
   "pygments_lexer": "ipython3",
   "version": "3.10.6"
  },
  "orig_nbformat": 4
 },
 "nbformat": 4,
 "nbformat_minor": 2
}
