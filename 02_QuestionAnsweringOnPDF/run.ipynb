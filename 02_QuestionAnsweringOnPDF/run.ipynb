{
 "cells": [
  {
   "cell_type": "code",
   "execution_count": null,
   "metadata": {},
   "outputs": [],
   "source": [
    "from dataservice import DataService\n",
    "\n",
    "# Example pdf\n",
    "pdf = 'eldenringwalkthrough.pdf'\n",
    "\n",
    "data_service = DataService()\n",
    "\n",
    "# Drop all data from redis if needed\n",
    "data_service.drop_redis_data()\n",
    "\n",
    "# Load data from pdf to redis\n",
    "data = data_service.pdf_to_embeddings(pdf)\n",
    "\n",
    "data_service.load_data_to_redis(data)"
   ]
  },
  {
   "cell_type": "code",
   "execution_count": null,
   "metadata": {},
   "outputs": [],
   "source": [
    "from intentservice import IntentService\n",
    "from responseservice import ResponseService\n",
    "\n",
    "\n",
    "intent_service = IntentService()\n",
    "response_service = ResponseService()\n",
    "\n",
    "# Question \n",
    "question = 'Who is Roderika?'\n",
    "# Get the intent\n",
    "intents = intent_service.get_intent(question)\n",
    "# Get the facts\n",
    "facts = data_service.search_redis(intents)\n",
    "# Get the answer\n",
    "answer = response_service.generate_response(facts, question)\n",
    "print(answer)\n"
   ]
  }
 ],
 "metadata": {
  "kernelspec": {
   "display_name": "venv",
   "language": "python",
   "name": "python3"
  },
  "language_info": {
   "codemirror_mode": {
    "name": "ipython",
    "version": 3
   },
   "file_extension": ".py",
   "mimetype": "text/x-python",
   "name": "python",
   "nbconvert_exporter": "python",
   "pygments_lexer": "ipython3",
   "version": "3.8.10"
  },
  "orig_nbformat": 4
 },
 "nbformat": 4,
 "nbformat_minor": 2
}
